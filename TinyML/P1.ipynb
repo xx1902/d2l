{
 "cells": [
  {
   "cell_type": "markdown",
   "metadata": {},
   "source": [
    "### 目标\n",
    "在本作业中，您将练习修剪经典的神经网络模型以减少模型大小和延迟。此作业的目标如下：\n",
    "\n",
    "* 了解修剪的基本概念\n",
    "* 实施和应用细粒度修剪\n",
    "* 实施和应用通道剪枝\n",
    "* 从修剪中获得对性能改进（例如加速）的基本了解\n",
    "* 了解这些修剪方法之间的差异和权衡\n",
    "\n",
    "\n",
    "### 内容\n",
    "本实验室有两个主要部分：细粒度修剪和通道修剪。总共有9个问题：\n",
    "* 对于细粒度修剪，有5个问题（问题1-5）。\n",
    "* 对于通道修剪，有3个问题（问题6-8）。\n",
    "* 问题9比较了细粒度修剪和通道修剪。"
   ]
  },
  {
   "cell_type": "markdown",
   "metadata": {},
   "source": [
    "### 设置\n",
    "首先，安装所需的包并下载数据集和预训练模型。这里我们使用CIFAR10数据集和VGG网络，这与我们在Lab 0教程中使用的相同。"
   ]
  },
  {
   "cell_type": "code",
   "execution_count": 1,
   "metadata": {},
   "outputs": [],
   "source": [
    "# print('Installing torchprofile...')\n",
    "# !pip install torchprofile 1>/dev/null\n",
    "# print('All required packages have been successfully installed!')"
   ]
  },
  {
   "cell_type": "code",
   "execution_count": 2,
   "metadata": {},
   "outputs": [
    {
     "data": {
      "text/plain": [
       "<torch._C.Generator at 0x20ab1aec9d0>"
      ]
     },
     "execution_count": 2,
     "metadata": {},
     "output_type": "execute_result"
    }
   ],
   "source": [
    "import copy\n",
    "import math\n",
    "import random\n",
    "import time\n",
    "from collections import OrderedDict, defaultdict\n",
    "from typing import Union, List\n",
    "\n",
    "import numpy as np\n",
    "import torch\n",
    "from matplotlib import pyplot as plt\n",
    "from torch import nn\n",
    "from torch.optim import *\n",
    "from torch.optim.lr_scheduler import *\n",
    "from torch.utils.data import DataLoader\n",
    "from torchprofile import profile_macs\n",
    "from torchvision.datasets import *\n",
    "from torchvision.transforms import *\n",
    "from tqdm.auto import tqdm\n",
    "\n",
    "from torchprofile import profile_macs\n",
    "\n",
    "assert torch.cuda.is_available(), \\\n",
    "\"The current runtime does not have CUDA support.\" \\\n",
    "\"Please go to menu bar (Runtime - Change runtime type) and select GPU\"\n",
    "\n",
    "random.seed(0)\n",
    "np.random.seed(0)\n",
    "torch.manual_seed(0)"
   ]
  },
  {
   "cell_type": "markdown",
   "metadata": {},
   "source": [
    "#### 下载函数\n",
    "这个 download_url 函数的主要功能是从指定 URL 下载文件并将其保存到本地指定的目录。它支持文件覆盖、目录创建，并在下载失败时提供错误信息。需要注意的是，禁用 SSL 验证可能会带来安全风险，使用时应根据具体情况谨慎处理。"
   ]
  },
  {
   "cell_type": "code",
   "execution_count": 3,
   "metadata": {},
   "outputs": [],
   "source": [
    "def download_url(url, model_dir='.', overwrite=False):\n",
    "    import os, sys, ssl\n",
    "    from urllib.request import urlretrieve\n",
    "    ssl._create_default_https_context = ssl._create_unverified_context\n",
    "    target_dir = url.split('/')[-1]\n",
    "    model_dir = os.path.expanduser(model_dir)\n",
    "    try:\n",
    "        if not os.path.exists(model_dir):\n",
    "            os.makedirs(model_dir)\n",
    "        model_dir = os.path.join(model_dir, target_dir)\n",
    "        cached_file = model_dir\n",
    "        if not os.path.exists(cached_file) or overwrite:\n",
    "            sys.stderr.write('Downloading: \"{}\" to {}\\n'.format(url, cached_file))\n",
    "            urlretrieve(url, cached_file)\n",
    "        return cached_file\n",
    "    except Exception as e:\n",
    "        # remove lock file so download can be executed next time.\n",
    "        os.remove(os.path.join(model_dir, 'download.lock'))\n",
    "        sys.stderr.write('Failed to download from url %s' % url + '\\n' + str(e) + '\\n')\n",
    "        return None"
   ]
  },
  {
   "cell_type": "markdown",
   "metadata": {},
   "source": [
    "#### VGG\n",
    "* 这个 VGG 模型类实现了一个标准的 VGG 结构，包括多个卷积层、批量归一化、ReLU 激活和最大池化层。它的设计具有模块化和灵活性，可以轻松调整网络架构。\n",
    "* 前向传播过程中，模型能够从输入图像生成类别预测。"
   ]
  },
  {
   "cell_type": "code",
   "execution_count": 4,
   "metadata": {},
   "outputs": [],
   "source": [
    "class VGG(nn.Module):\n",
    "  ARCH = [64, 128, 'M', 256, 256, 'M', 512, 512, 'M', 512, 512, 'M']\n",
    "\n",
    "  def __init__(self) -> None:\n",
    "    super().__init__()\n",
    "\n",
    "    layers = []\n",
    "    counts = defaultdict(int)\n",
    "\n",
    "    def add(name: str, layer: nn.Module) -> None:\n",
    "      layers.append((f\"{name}{counts[name]}\", layer))\n",
    "      counts[name] += 1\n",
    "\n",
    "    in_channels = 3\n",
    "    for x in self.ARCH:\n",
    "      if x != 'M':\n",
    "        # conv-bn-relu\n",
    "        add(\"conv\", nn.Conv2d(in_channels, x, 3, padding=1, bias=False))\n",
    "        add(\"bn\", nn.BatchNorm2d(x))\n",
    "        add(\"relu\", nn.ReLU(True))\n",
    "        in_channels = x\n",
    "      else:\n",
    "        # maxpool\n",
    "        add(\"pool\", nn.MaxPool2d(2))\n",
    "\n",
    "    self.backbone = nn.Sequential(OrderedDict(layers))\n",
    "    self.classifier = nn.Linear(512, 10)\n",
    "\n",
    "  def forward(self, x: torch.Tensor) -> torch.Tensor:\n",
    "    # backbone: [N, 3, 32, 32] => [N, 512, 2, 2]\n",
    "    x = self.backbone(x)\n",
    "\n",
    "    # avgpool: [N, 512, 2, 2] => [N, 512]\n",
    "    x = x.mean([2, 3])\n",
    "\n",
    "    # classifier: [N, 512] => [N, 10]\n",
    "    x = self.classifier(x)\n",
    "    return x"
   ]
  },
  {
   "cell_type": "markdown",
   "metadata": {},
   "source": [
    "#### 训练函数\n",
    "这个 train 函数提供了一种标准的方法来训练 PyTorch 模型，涵盖了前向推理、损失计算、梯度更新和学习率调整等步骤。通过可选的回调参数，用户可以在训练过程中灵活地添加自定义逻辑。"
   ]
  },
  {
   "cell_type": "code",
   "execution_count": 5,
   "metadata": {},
   "outputs": [],
   "source": [
    "def train(\n",
    "  model: nn.Module,\n",
    "  dataloader: DataLoader,\n",
    "  criterion: nn.Module,\n",
    "  optimizer: Optimizer,\n",
    "  scheduler: LambdaLR,\n",
    "  callbacks = None\n",
    ") -> None:\n",
    "  model.train()\n",
    "\n",
    "  for inputs, targets in tqdm(dataloader, desc='train', leave=False):\n",
    "    # Move the data from CPU to GPU\n",
    "    inputs = inputs.cuda()\n",
    "    targets = targets.cuda()\n",
    "\n",
    "    # Reset the gradients (from the last iteration)\n",
    "    optimizer.zero_grad()\n",
    "\n",
    "    # Forward inference\n",
    "    outputs = model(inputs)\n",
    "    loss = criterion(outputs, targets)\n",
    "\n",
    "    # Backward propagation\n",
    "    loss.backward()\n",
    "\n",
    "    # Update optimizer and LR scheduler\n",
    "    optimizer.step()\n",
    "    scheduler.step()\n",
    "\n",
    "    if callbacks is not None:\n",
    "        for callback in callbacks:\n",
    "            callback()"
   ]
  },
  {
   "cell_type": "markdown",
   "metadata": {},
   "source": [
    "#### 评估函数\n",
    "evaluate 函数通过逐批次地将输入数据传入模型，计算模型的预测结果，并与实际标签进行比较，从而评估模型的性能。它返回模型在给定数据集上的准确率，并提供了灵活的参数来控制输出的详细程度。这个函数适合在模型训练后进行验证，以了解模型的泛化能力。"
   ]
  },
  {
   "cell_type": "code",
   "execution_count": 6,
   "metadata": {},
   "outputs": [],
   "source": [
    "@torch.inference_mode()\n",
    "def evaluate(\n",
    "  model: nn.Module,\n",
    "  dataloader: DataLoader,\n",
    "  verbose=True,\n",
    ") -> float:\n",
    "  model.eval()\n",
    "\n",
    "  num_samples = 0\n",
    "  num_correct = 0\n",
    "\n",
    "  for inputs, targets in tqdm(dataloader, desc=\"eval\", leave=False,\n",
    "                              disable=not verbose):\n",
    "    # Move the data from CPU to GPU\n",
    "    inputs = inputs.cuda()\n",
    "    targets = targets.cuda()\n",
    "\n",
    "    # Inference\n",
    "    outputs = model(inputs)\n",
    "\n",
    "    # Convert logits to class indices\n",
    "    outputs = outputs.argmax(dim=1)\n",
    "\n",
    "    # Update metrics\n",
    "    num_samples += targets.size(0)\n",
    "    num_correct += (outputs == targets).sum()\n",
    "\n",
    "  return (num_correct / num_samples * 100).item()"
   ]
  },
  {
   "cell_type": "markdown",
   "metadata": {},
   "source": [
    "#### 辅助函数\n",
    "辅助函数（触发器、模型大小计算等）\n",
    "* 这些函数提供了对模型性能的深入分析，帮助开发者理解模型的复杂性和稀疏性。这些信息对于优化模型、减小模型大小以及在实际应用中提升推理速度都非常重要。"
   ]
  },
  {
   "cell_type": "code",
   "execution_count": 7,
   "metadata": {},
   "outputs": [],
   "source": [
    "# 获取模型的MACs\n",
    "def get_model_macs(model, inputs) -> int:\n",
    "    return profile_macs(model, inputs)\n",
    "\n",
    "# 计算张量的稀疏性\n",
    "def get_sparsity(tensor: torch.Tensor) -> float:\n",
    "    \"\"\"\n",
    "    calculate the sparsity of the given tensor\n",
    "        sparsity = #zeros / #elements = 1 - #nonzeros / #elements\n",
    "    \"\"\"\n",
    "    return 1 - float(tensor.count_nonzero()) / tensor.numel()\n",
    "\n",
    "# 计算模型的稀疏性\n",
    "def get_model_sparsity(model: nn.Module) -> float:\n",
    "    \"\"\"\n",
    "    calculate the sparsity of the given model\n",
    "        sparsity = #zeros / #elements = 1 - #nonzeros / #elements\n",
    "    \"\"\"\n",
    "    num_nonzeros, num_elements = 0, 0\n",
    "    for param in model.parameters():\n",
    "        num_nonzeros += param.count_nonzero()\n",
    "        num_elements += param.numel()\n",
    "    return 1 - float(num_nonzeros) / num_elements\n",
    "\n",
    "# 计算模型的参数数量\n",
    "def get_num_parameters(model: nn.Module, count_nonzero_only=False) -> int:\n",
    "    \"\"\"\n",
    "    calculate the total number of parameters of model\n",
    "    :param count_nonzero_only: only count nonzero weights\n",
    "    \"\"\"\n",
    "    num_counted_elements = 0\n",
    "    for param in model.parameters():\n",
    "        if count_nonzero_only:\n",
    "            num_counted_elements += param.count_nonzero()\n",
    "        else:\n",
    "            num_counted_elements += param.numel()\n",
    "    return num_counted_elements\n",
    "\n",
    "# 计算模型大小\n",
    "def get_model_size(model: nn.Module, data_width=32, count_nonzero_only=False) -> int:\n",
    "    \"\"\"\n",
    "    calculate the model size in bits\n",
    "    :param data_width: #bits per element\n",
    "    :param count_nonzero_only: only count nonzero weights\n",
    "    \"\"\"\n",
    "    return get_num_parameters(model, count_nonzero_only) * data_width\n",
    "\n",
    "# 常量定义\n",
    "Byte = 8\n",
    "KiB = 1024 * Byte\n",
    "MiB = 1024 * KiB\n",
    "GiB = 1024 * MiB"
   ]
  },
  {
   "cell_type": "markdown",
   "metadata": {},
   "source": [
    "#### 杂项函数\n",
    "定义用于验证的杂项函数。\n",
    "* 这段代码定义了一个用于测试细粒度剪枝（fine-grained pruning）功能的函数\n",
    "* 这个函数通过可视化、稀疏性计算和结果验证来测试细粒度剪枝的有效性。这种测试方法有助于评估剪枝技术的效果，并确保模型在实现稀疏化的同时保持准确性。"
   ]
  },
  {
   "cell_type": "code",
   "execution_count": 8,
   "metadata": {},
   "outputs": [],
   "source": [
    "def test_fine_grained_prune(\n",
    "    test_tensor=torch.tensor([[-0.46, -0.40, 0.39, 0.19, 0.37],\n",
    "                              [0.00, 0.40, 0.17, -0.15, 0.16],\n",
    "                              [-0.20, -0.23, 0.36, 0.25, 0.03],\n",
    "                              [0.24, 0.41, 0.07, 0.13, -0.15],\n",
    "                              [0.48, -0.09, -0.36, 0.12, 0.45]]),\n",
    "    test_mask=torch.tensor([[True, True, False, False, False],\n",
    "                            [False, True, False, False, False],\n",
    "                            [False, False, False, False, False],\n",
    "                            [False, True, False, False, False],\n",
    "                            [True, False, False, False, True]]),\n",
    "    target_sparsity=0.75, target_nonzeros=None):\n",
    "    def plot_matrix(tensor, ax, title):\n",
    "        ax.imshow(tensor.cpu().numpy() == 0, vmin=0, vmax=1, cmap='tab20c')\n",
    "        ax.set_title(title)\n",
    "        ax.set_yticklabels([])\n",
    "        ax.set_xticklabels([])\n",
    "        for i in range(tensor.shape[1]):\n",
    "            for j in range(tensor.shape[0]):\n",
    "                text = ax.text(j, i, f'{tensor[i, j].item():.2f}',\n",
    "                                ha=\"center\", va=\"center\", color=\"k\")\n",
    "\n",
    "    test_tensor = test_tensor.clone()\n",
    "    fig, axes = plt.subplots(1,2, figsize=(6, 10))\n",
    "    ax_left, ax_right = axes.ravel()\n",
    "    plot_matrix(test_tensor, ax_left, 'dense tensor')\n",
    "\n",
    "    sparsity_before_pruning = get_sparsity(test_tensor)\n",
    "    mask = fine_grained_prune(test_tensor, target_sparsity)\n",
    "    sparsity_after_pruning = get_sparsity(test_tensor)\n",
    "    sparsity_of_mask = get_sparsity(mask)\n",
    "\n",
    "    plot_matrix(test_tensor, ax_right, 'sparse tensor')\n",
    "    fig.tight_layout()\n",
    "    plt.show()\n",
    "\n",
    "    print('* Test fine_grained_prune()')\n",
    "    print(f'    target sparsity: {target_sparsity:.2f}')\n",
    "    print(f'        sparsity before pruning: {sparsity_before_pruning:.2f}')\n",
    "    print(f'        sparsity after pruning: {sparsity_after_pruning:.2f}')\n",
    "    print(f'        sparsity of pruning mask: {sparsity_of_mask:.2f}')\n",
    "\n",
    "    if target_nonzeros is None:\n",
    "        if test_mask.equal(mask):\n",
    "            print('* Test passed.')\n",
    "        else:\n",
    "            print('* Test failed.')\n",
    "    else:\n",
    "        if mask.count_nonzero() == target_nonzeros:\n",
    "            print('* Test passed.')\n",
    "        else:\n",
    "            print('* Test failed.')"
   ]
  },
  {
   "cell_type": "markdown",
   "metadata": {},
   "source": [
    "#### 下载数据\n",
    "加载预训练模型和CIFAR-10数据集。\n",
    "* 这段代码用于加载一个预训练的 VGG 模型权重，并将其恢复到指定的模型实例中。以下是代码的详细说明："
   ]
  },
  {
   "cell_type": "code",
   "execution_count": 9,
   "metadata": {},
   "outputs": [
    {
     "name": "stderr",
     "output_type": "stream",
     "text": [
      "C:\\Users\\17363\\AppData\\Local\\Temp\\ipykernel_58852\\3977767905.py:2: FutureWarning: You are using `torch.load` with `weights_only=False` (the current default value), which uses the default pickle module implicitly. It is possible to construct malicious pickle data which will execute arbitrary code during unpickling (See https://github.com/pytorch/pytorch/blob/main/SECURITY.md#untrusted-models for more details). In a future release, the default value for `weights_only` will be flipped to `True`. This limits the functions that could be executed during unpickling. Arbitrary objects will no longer be allowed to be loaded via this mode unless they are explicitly allowlisted by the user via `torch.serialization.add_safe_globals`. We recommend you start setting `weights_only=True` for any use case where you don't have full control of the loaded file. Please open an issue on GitHub for any issues related to this experimental feature.\n",
      "  checkpoint = torch.load(download_url(checkpoint_url), map_location=\"cpu\")\n"
     ]
    },
    {
     "name": "stdout",
     "output_type": "stream",
     "text": [
      "=> loading checkpoint 'https://hanlab18.mit.edu/files/course/labs/vgg.cifar.pretrained.pth'\n"
     ]
    }
   ],
   "source": [
    "checkpoint_url = \"https://hanlab18.mit.edu/files/course/labs/vgg.cifar.pretrained.pth\"\n",
    "checkpoint = torch.load(download_url(checkpoint_url), map_location=\"cpu\")\n",
    "model = VGG().cuda()\n",
    "print(f\"=> loading checkpoint '{checkpoint_url}'\")\n",
    "model.load_state_dict(checkpoint['state_dict'])\n",
    "recover_model = lambda: model.load_state_dict(checkpoint['state_dict'])"
   ]
  },
  {
   "cell_type": "code",
   "execution_count": 10,
   "metadata": {},
   "outputs": [
    {
     "name": "stdout",
     "output_type": "stream",
     "text": [
      "Files already downloaded and verified\n",
      "Files already downloaded and verified\n"
     ]
    }
   ],
   "source": [
    "image_size = 32\n",
    "transforms = {\n",
    "    \"train\": Compose([\n",
    "        RandomCrop(image_size, padding=4),\n",
    "        RandomHorizontalFlip(),\n",
    "        ToTensor(),\n",
    "    ]),\n",
    "    \"test\": ToTensor(),\n",
    "}\n",
    "dataset = {}\n",
    "for split in [\"train\", \"test\"]:\n",
    "  dataset[split] = CIFAR10(\n",
    "    root=\"data/cifar10\",\n",
    "    train=(split == \"train\"),\n",
    "    download=True,\n",
    "    transform=transforms[split],\n",
    "  )\n",
    "dataloader = {}\n",
    "for split in ['train', 'test']:\n",
    "  dataloader[split] = DataLoader(\n",
    "    dataset[split],\n",
    "    batch_size=512,\n",
    "    shuffle=(split == 'train'),\n",
    "    num_workers=0,\n",
    "    pin_memory=True,\n",
    "  )"
   ]
  },
  {
   "cell_type": "markdown",
   "metadata": {},
   "source": [
    "### 密集型模型评估\n",
    "让我们首先评估密集模型的准确性和模型大小\n",
    "* 神经网络在许多应用中变得无处不在。在这里，我们加载了一个预训练的VGG模型，用于对CIFAR10数据集中的图像进行分类。我们先来评估一下这个模型的精度和模型大小。"
   ]
  },
  {
   "cell_type": "code",
   "execution_count": 11,
   "metadata": {},
   "outputs": [
    {
     "data": {
      "application/vnd.jupyter.widget-view+json": {
       "model_id": "adc7aadee2794d4c98c387462416424e",
       "version_major": 2,
       "version_minor": 0
      },
      "text/plain": [
       "eval:   0%|          | 0/20 [00:00<?, ?it/s]"
      ]
     },
     "metadata": {},
     "output_type": "display_data"
    },
    {
     "name": "stdout",
     "output_type": "stream",
     "text": [
      "dense model has accuracy=92.95%\n",
      "dense model has size=35.20 MiB\n"
     ]
    }
   ],
   "source": [
    "dense_model_accuracy = evaluate(model, dataloader['test'])\n",
    "dense_model_size = get_model_size(model)\n",
    "print(f\"dense model has accuracy={dense_model_accuracy:.2f}%\")\n",
    "print(f\"dense model has size={dense_model_size/MiB:.2f} MiB\")"
   ]
  },
  {
   "cell_type": "markdown",
   "metadata": {},
   "source": [
    "虽然大型神经网络非常强大，但它们的大小消耗了大量的存储、内存带宽和计算资源。 正如我们从上面的结果中看到的，一个像分类一样简单的任务模型32×3210类的图像可以大到35 MiB。 对于嵌入式移动应用程序，这些资源需求变得令人望而却步。\n",
    "\n",
    "因此，利用神经网络剪枝来促进包含DNN的移动应用程序的存储和传输。\n",
    "\n",
    "修剪的目标是在保持准确性的同时减小模型大小。"
   ]
  },
  {
   "cell_type": "markdown",
   "metadata": {},
   "source": [
    "### 权重值分布\n",
    "让我们看看权重值的分布\n",
    "* 在我们开始修剪之前，让我们看看密集模型中权重值的分布。\n",
    "* 这段代码定义了一个函数 plot_weight_distribution，用于可视化给定模型的权重分布。它会生成一个包含多个子图的直方图，显示每个可学习参数的权重分布情况。\n",
    "* 调用 plot_weight_distribution(model) 会生成一个 3x3 的子图矩阵，显示模型各个层的权重分布情况。权重分布的可视化可以帮助你理解模型中权重的稀疏性以及训练过程中的变化。这对于优化模型和调试都是非常有用的。\n",
    "* 如果想只看非零权重的分布，可以使用 plot_weight_distribution(model, count_nonzero_only=True)。"
   ]
  },
  {
   "cell_type": "code",
   "execution_count": 12,
   "metadata": {},
   "outputs": [
    {
     "data": {
      "image/png": "[encoded data removed]",
      "text/plain": [
       "<Figure size 1000x600 with 9 Axes>"
      ]
     },
     "metadata": {},
     "output_type": "display_data"
    }
   ],
   "source": [
    "def plot_weight_distribution(model, bins=256, count_nonzero_only=False):\n",
    "    fig, axes = plt.subplots(3,3, figsize=(10, 6))\n",
    "    axes = axes.ravel()\n",
    "    plot_index = 0\n",
    "    for name, param in model.named_parameters():\n",
    "        if param.dim() > 1:\n",
    "            ax = axes[plot_index]\n",
    "            if count_nonzero_only:\n",
    "                param_cpu = param.detach().view(-1).cpu()\n",
    "                param_cpu = param_cpu[param_cpu != 0].view(-1)\n",
    "                ax.hist(param_cpu, bins=bins, density=True,\n",
    "                        color = 'blue', alpha = 0.5)\n",
    "            else:\n",
    "                ax.hist(param.detach().view(-1).cpu(), bins=bins, density=True,\n",
    "                        color = 'blue', alpha = 0.5)\n",
    "            ax.set_xlabel(name)\n",
    "            ax.set_ylabel('density')\n",
    "            plot_index += 1\n",
    "    fig.suptitle('Histogram of Weights')\n",
    "    fig.tight_layout()\n",
    "    fig.subplots_adjust(top=0.925)\n",
    "    plt.show()\n",
    "\n",
    "plot_weight_distribution(model)"
   ]
  },
  {
   "cell_type": "markdown",
   "metadata": {},
   "source": [
    "`backbone.conv0.weight` 和 `classifier.weight` 通常指的是深度学习模型中的两个关键部分的权重：\n",
    "\n",
    "`backbone.conv0.weight:`\n",
    "\n",
    "* 这里的 \"backbone\" 通常指卷积神经网络（CNN）模型的主体部分（即特征提取器）。\n",
    "* “conv0” 表示模型中的第一个卷积层。它是网络中最接近输入图像的层，负责提取图像的低级特征，如边缘、纹理等。\n",
    "* weight 是指卷积核（filters）的权重矩阵，它会随着训练更新，用于识别图像中的特征。\n",
    "\n",
    "`backbone.conv0.weight` 代表了模型第一层卷积层的权重，它通常对图像的预处理非常关键，因为它负责将原始输入转换为可以被后续层进一步处理的特征表示。\n",
    "\n",
    "`classifier.weight:`\n",
    "\n",
    "* “classifier” 通常指的是模型的分类器部分，尤其在图像分类任务中，这一部分是负责对提取的特征进行最终的分类。\n",
    "* 在许多模型（如 ResNet、VGG 等）中，分类器通常是由一个或多个全连接层（Fully Connected Layers, FC）组成。\n",
    "* weight 代表了这些全连接层的权重矩阵，用于将前一层提取的特征映射到不同类别的输出。\n",
    "\n",
    "`classifier.weight `代表模型最后的分类层的权重，用于将提取到的特征最终转化为分类的预测值。"
   ]
  },
  {
   "cell_type": "markdown",
   "metadata": {},
   "source": [
    "#### 问题1（10分）\n",
    "请使用上述权重直方图中的信息回答以下问题。\n",
    "##### 问题1.1（5分）\n",
    "不同层的重量分布有什么共同特征？\n",
    "\n",
    "答：\n",
    "* 大多数分布为钟形曲线：除了最左上角的 `backbone.conv0.weight` 和最右下角的 `classifier.weight`，其他层的权重分布几乎呈现正态分布（钟形），表明大多数权重集中在零附近，权重较大的值非常少。\n",
    "* 对称性：这些分布大多是对称的，以零为中心，左侧和右侧的权重分布相似。这意味着在这些层中，正负权重的大小和数量相对均匀。\n",
    "* 零权重集中：在大多数层中，权重值接近于零的密度最高，表明这些网络的许多权重可能在训练中被压缩至接近零的值。\n",
    "* 尾部较小：除了 `backbone.conv0.weight` 和 `classifier.weight` 外，大部分权重分布的尾部都相对较短，这意味着极端大或极端小的权重较少。\n",
    "* 层间差异较小：除了 `backbone.conv0.weight` 和 `classifier.weight`，其他大部分卷积层的分布形状相似，表明这些卷积层在权重初始化或训练时可能遵循相似的策略。\n"
   ]
  },
  {
   "cell_type": "markdown",
   "metadata": {},
   "source": [
    "##### 问题1.2（5分）\n",
    "这些特性如何帮助修剪？\n",
    "\n",
    "答：\n",
    "这些权重分布的特性对模型的修剪有重要意义：\n",
    "* 权重集中在零附近：当大部分权重接近零时，说明这些权重对最终的输出影响较小。因此，在修剪过程中，可以安全地将这些接近零的权重置为零，从而减少模型的复杂度，提升推理效率。\n",
    "* 分布对称且尾部较短：分布的对称性和尾部的短小特征意味着极端权重较少，许多不重要的权重可以通过修剪删除，不会对模型性能造成较大影响。\n",
    "* 不同层权重分布相似：由于多个层的权重分布都相似，可以针对相似的层使用统一的修剪策略，减少了为每个层设计不同修剪标准的复杂性。\n",
    "* 过大的权重异常值可以忽略：部分层（如 classifier.weight 和 backbone.conv0.weight）的权重分布有较多的高权重值，这些值可能代表模型中的少数关键连接，但在其他层中权重集中于较小范围，因此可以针对不同层权衡修剪的程度。\n",
    "* 这些特性使得基于权重大小的修剪方法（如剪掉小于某一阈值的权重）变得有效，从而在不显著影响模型性能的情况下，显著减少参数数量，优化计算和存储资源。"
   ]
  },
  {
   "cell_type": "markdown",
   "metadata": {},
   "source": [
    "### 细粒度修剪\n",
    "在本节中，我们将实现并执行细粒度修剪。\n",
    "细粒度修剪去除重要性最低的突触。权重张量 W 细粒度修剪后会变得稀疏，可以用稀疏性:\n",
    "\n",
    "$\\text{sparsity}:=\\#\\text{Zeros}/\\#W=1-\\#\\text{Nonzeros}/\\#W$\n",
    "\n",
    "哪里 #W 是元素的数量 W .\n",
    "\n",
    "在实践中，考虑到目标稀疏性 s ，权重张量 W 与二进制掩码相乘 M 忽略去除的重量：\n",
    "\n",
    "$\\begin{aligned}\n",
    "&v_{\\mathrm{thr}}=\\mathbf{kthvalue}(Importance,\\#W\\cdot s) \\\\\n",
    "&M=Importance>v_{\\mathrm{thr}} \\\\\n",
    "&W=W\\cdot M\n",
    "\\end{aligned}$\n",
    "\n",
    "哪里 重要性 是具有相同形状的重要性张量 W ,  K值（X， k） 找到 k 张量的第-个最小值 $X,v_{\\mathrm{thr}}$ 是阈值。"
   ]
  },
  {
   "cell_type": "markdown",
   "metadata": {},
   "source": [
    "#### 基于幅度的修剪\n",
    "对于细粒度修剪，一个广泛使用的重要性是权重值的大小，即，\n",
    "\n",
    "$Importance=|W|$\n",
    "\n",
    "这被称为基于幅度的修剪（请参阅学习权重和连接以提高效率 神经网络）https://www.google.com/url?q=https%3A%2F%2Farxiv.org%2Fpdf%2F1506.02626.pdf 。\n",
    "![alt text](../image/P1/剪枝.png)"
   ]
  },
  {
   "cell_type": "markdown",
   "metadata": {},
   "source": [
    "##### 问题2（15分）\n",
    "请完成以下基于幅度的细粒度剪枝功能。\n",
    "\n",
    "提示：\n",
    "* 第一步，我们计算修剪后的零点数（num_zeros）。注意，`num_zeros`应该是整数。您可以使用`round()`或`int()`将浮点数转换为整数。这里我们使用`round()`。\n",
    "* 在步骤2中，我们计算权重张量的`importance`。Pytorch提供了`torch.abs()`，`torch.Tensor.abs()`，`torch.Tensor.abs_()` APIs。\n",
    "* 在步骤3中，我们计算修剪`threshold`，以便所有重要性小于`threshold`的突触将被删除。Pytorch提供了`torch.kthvalue()`、`torch.Tensor.kthvalue()`、`torch.topk()API`。\n",
    "* 在步骤4中，我们根据`mask`计算修剪`threshold`。1中的`mask`表示将保留突触，0中的`mask`表示将删除突触。`mask = importance > threshold`。Pytorch提供了`torch.gt()`API。"
   ]
  },
  {
   "cell_type": "code",
   "execution_count": 13,
   "metadata": {},
   "outputs": [],
   "source": [
    "def fine_grained_prune(tensor: torch.Tensor, sparsity: float) -> torch.Tensor:\n",
    "    \"\"\"\n",
    "    基于幅度的细粒度剪枝\n",
    "    :param tensor: torch.(cuda.)Tensor, 卷积/全连接层的权重张量\n",
    "    :param sparsity: float, 剪枝稀疏度\n",
    "        稀疏度 = 零值数量 / 元素数量 = 1 - 非零值数量 / 元素数量\n",
    "    :return:\n",
    "        torch.(cuda.)Tensor, 零值掩码\n",
    "    \"\"\"\n",
    "    # 处理边界情况和稀疏度设置，将稀疏度 sparsity 限制在 0.0 和 1.0 之间\n",
    "    sparsity = min(max(0.0, sparsity), 1.0)\n",
    "    if sparsity == 1.0:\n",
    "        tensor.zero_()\n",
    "        return torch.zeros_like(tensor)\n",
    "    elif sparsity == 0.0:\n",
    "        return torch.ones_like(tensor)\n",
    "    \n",
    "    # 张量的总数\n",
    "    num_elements = tensor.numel()\n",
    "\n",
    "    ##################### 实现步骤如下 #####################\n",
    "    # Step 1: 计算需要的零值数目\n",
    "    num_zeros = round(num_elements * sparsity)\n",
    "\n",
    "    # Step 2: 计算权重的重要性 (取绝对值)  幅度剪枝方法假设绝对值越大的权重越重要。\n",
    "    importance = tensor.abs()\n",
    "\n",
    "    # Step 3: 计算剪枝阈值，使得比阈值小的权重会被剪枝。将权重的绝对值展开，获取最低阈值的标量\n",
    "    if num_zeros > 0:\n",
    "        threshold = importance.view(-1).kthvalue(num_zeros).values.item()\n",
    "    else:\n",
    "        threshold = 0\n",
    "\n",
    "    # Step 4: 生成二进制掩码 (1 表示保留，0 表示剪枝)\n",
    "    mask = torch.gt(importance, threshold).float()\n",
    "    ##################### 代码结束 #######################\n",
    "\n",
    "    # Step 5: 应用掩码来剪枝张量\n",
    "    tensor.mul_(mask)\n",
    "\n",
    "    return mask\n"
   ]
  },
  {
   "cell_type": "markdown",
   "metadata": {},
   "source": [
    "让我们通过在虚拟张量上应用上面的函数来验证定义的细粒度剪枝的功能。"
   ]
  },
  {
   "cell_type": "code",
   "execution_count": 14,
   "metadata": {},
   "outputs": [
    {
     "data": {
      "image/png": "[encoded data removed]",
      "text/plain": [
       "<Figure size 600x1000 with 2 Axes>"
      ]
     },
     "metadata": {},
     "output_type": "display_data"
    },
    {
     "name": "stdout",
     "output_type": "stream",
     "text": [
      "* Test fine_grained_prune()\n",
      "    target sparsity: 0.75\n",
      "        sparsity before pruning: 0.04\n",
      "        sparsity after pruning: 0.76\n",
      "        sparsity of pruning mask: 0.76\n",
      "* Test passed.\n"
     ]
    }
   ],
   "source": [
    "test_fine_grained_prune()"
   ]
  },
  {
   "cell_type": "markdown",
   "metadata": {},
   "source": [
    "* 目标稀疏度：测试的目标稀疏度是 0.75，这意味着我们希望最终权重张量的 75% 元素被置零。\n",
    "* 剪枝前稀疏度：剪枝前稀疏度为 0.04，说明只有 4% 的元素原本为零。\n",
    "* 剪枝后稀疏度：剪枝后的稀疏度为0.76,非常接近目标稀疏度0.75,证明剪枝函数成功地按要求设置了大约75%的零值。\n",
    "* 掩码稀疏度：剪枝掩码的稀疏度也为0.76，与剪枝后张量的稀疏度一致，说明掩码准确地标识了哪些元素应该被置零。"
   ]
  },
  {
   "cell_type": "markdown",
   "metadata": {},
   "source": [
    "##### 问题3（5分）\n",
    "最后一个单元格绘制剪枝前后的张量，非零用蓝色渲染，零用灰色渲染，请修改下面代码单元格中target_sparsity的值，使剪枝后的稀疏张量中只有10个非零。"
   ]
  },
  {
   "cell_type": "code",
   "execution_count": 15,
   "metadata": {},
   "outputs": [
    {
     "data": {
      "image/png": "[encoded data removed]",
      "text/plain": [
       "<Figure size 600x1000 with 2 Axes>"
      ]
     },
     "metadata": {},
     "output_type": "display_data"
    },
    {
     "name": "stdout",
     "output_type": "stream",
     "text": [
      "* Test fine_grained_prune()\n",
      "    target sparsity: 0.60\n",
      "        sparsity before pruning: 0.04\n",
      "        sparsity after pruning: 0.60\n",
      "        sparsity of pruning mask: 0.60\n",
      "* Test passed.\n"
     ]
    }
   ],
   "source": [
    "##################### YOUR CODE STARTS HERE #####################\n",
    "target_sparsity = 1 - 10 / 25  # 计算所需的稀疏度\n",
    "##################### YOUR CODE ENDS HERE #####################\n",
    "test_fine_grained_prune(target_sparsity=target_sparsity, target_nonzeros=10)\n"
   ]
  },
  {
   "cell_type": "markdown",
   "metadata": {},
   "source": [
    "我们现在将细粒度的修剪函数包装到一个类中，用于修剪整个模型。在FineGrainedPruner类中，我们必须记录修剪掩码，以便在模型权重发生变化时应用掩码，以确保模型始终保持稀疏。"
   ]
  },
  {
   "cell_type": "code",
   "execution_count": 16,
   "metadata": {},
   "outputs": [],
   "source": [
    "class FineGrainedPruner:\n",
    "    def __init__(self, model, sparsity_dict):\n",
    "        self.masks = FineGrainedPruner.prune(model, sparsity_dict)\n",
    "\n",
    "    # 将剪枝掩码应用到模型的参数上，从而使非零位置的参数保留，零位置的参数被置零\n",
    "    @torch.no_grad()\n",
    "    def apply(self, model):\n",
    "        for name, param in model.named_parameters():\n",
    "            if name in self.masks:\n",
    "                param *= self.masks[name]\n",
    "\n",
    "    # 负责对模型中的各层生成剪枝掩码,仅对维度大于1（即卷积层和全连接层）的权重进行剪枝\n",
    "    @staticmethod\n",
    "    @torch.no_grad()\n",
    "    def prune(model, sparsity_dict):\n",
    "        masks = dict()\n",
    "        for name, param in model.named_parameters():\n",
    "            if param.dim() > 1: # we only prune conv and fc weights\n",
    "                masks[name] = fine_grained_prune(param, sparsity_dict[name])\n",
    "        return masks"
   ]
  },
  {
   "cell_type": "markdown",
   "metadata": {},
   "source": [
    "#### 灵敏度扫描\n",
    "不同的层对模型性能的贡献不同。为每一层确定适当的稀疏度是一项挑战。一种广泛使用的方法是灵敏度扫描。\n",
    "\n",
    "在灵敏度扫描过程中，每次我们只修剪一层以查看精度下降。通过扫描不同的稀疏度，我们可以绘制相应层的灵敏度曲线（即精度与稀疏度）。\n",
    "\n",
    "这是灵敏度曲线的示例图。x轴是稀疏度或#参数丢弃的百分比（即稀疏度）。y轴是验证准确性。（这是学习高效神经网络的权重和连接中的图6 https://arxiv.org/pdf/1506.02626）\n",
    "![alt text](../image/P1/灵敏度曲线.png)"
   ]
  },
  {
   "cell_type": "markdown",
   "metadata": {},
   "source": [
    "下面的代码单元定义了灵敏度扫描函数，该函数返回扫描的稀疏度，以及要修剪的每个权重的精度列表。"
   ]
  },
  {
   "cell_type": "code",
   "execution_count": 17,
   "metadata": {},
   "outputs": [],
   "source": [
    "@torch.no_grad()\n",
    "def sensitivity_scan(model, dataloader, scan_step=0.1, scan_start=0.4, scan_end=1.0, verbose=True):\n",
    "    sparsities = np.arange(start=scan_start, stop=scan_end, step=scan_step)\n",
    "    accuracies = []\n",
    "    named_conv_weights = [(name, param) for (name, param) \\\n",
    "                          in model.named_parameters() if param.dim() > 1]\n",
    "    for i_layer, (name, param) in enumerate(named_conv_weights):\n",
    "        param_clone = param.detach().clone()\n",
    "        accuracy = []\n",
    "        for sparsity in tqdm(sparsities, desc=f'scanning {i_layer}/{len(named_conv_weights)} weight - {name}'):\n",
    "            fine_grained_prune(param.detach(), sparsity=sparsity)\n",
    "            acc = evaluate(model, dataloader, verbose=False)\n",
    "            if verbose:\n",
    "                print(f'\\r    sparsity={sparsity:.2f}: accuracy={acc:.2f}%', end='')\n",
    "            # restore\n",
    "            param.copy_(param_clone)\n",
    "            accuracy.append(acc)\n",
    "        if verbose:\n",
    "            print(f'\\r    sparsity=[{\",\".join([\"{:.2f}\".format(x) for x in sparsities])}]: accuracy=[{\", \".join([\"{:.2f}%\".format(x) for x in accuracy])}]', end='')\n",
    "        accuracies.append(accuracy)\n",
    "    return sparsities, accuracies"
   ]
  },
  {
   "cell_type": "markdown",
   "metadata": {},
   "source": [
    "请运行以下单元格来绘制灵敏度曲线。大约需要2分钟才能完成。"
   ]
  },
  {
   "cell_type": "code",
   "execution_count": 18,
   "metadata": {},
   "outputs": [
    {
     "data": {
      "application/vnd.jupyter.widget-view+json": {
       "model_id": "4e11b034a21b4d229d2d8b3382992f5f",
       "version_major": 2,
       "version_minor": 0
      },
      "text/plain": [
       "scanning 0/9 weight - backbone.conv0.weight:   0%|          | 0/6 [00:00<?, ?it/s]"
      ]
     },
     "metadata": {},
     "output_type": "display_data"
    },
    {
     "name": "stdout",
     "output_type": "stream",
     "text": [
      "    sparsity=[0.40,0.50,0.60,0.70,0.80,0.90]: accuracy=[92.42%, 91.19%, 87.55%, 83.39%, 69.42%, 31.82%]"
     ]
    },
    {
     "data": {
      "application/vnd.jupyter.widget-view+json": {
       "model_id": "57a3f5f019a44582aa9586a10d112612",
       "version_major": 2,
       "version_minor": 0
      },
      "text/plain": [
       "scanning 1/9 weight - backbone.conv1.weight:   0%|          | 0/6 [00:00<?, ?it/s]"
      ]
     },
     "metadata": {},
     "output_type": "display_data"
    },
    {
     "name": "stdout",
     "output_type": "stream",
     "text": [
      "    sparsity=[0.40,0.50,0.60,0.70,0.80,0.90]: accuracy=[92.93%, 92.88%, 92.71%, 92.40%, 91.32%, 84.78%]"
     ]
    },
    {
     "data": {
      "application/vnd.jupyter.widget-view+json": {
       "model_id": "40a0f7f5ab44461594ba3b7b658dec83",
       "version_major": 2,
       "version_minor": 0
      },
      "text/plain": [
       "scanning 2/9 weight - backbone.conv2.weight:   0%|          | 0/6 [00:00<?, ?it/s]"
      ]
     },
     "metadata": {},
     "output_type": "display_data"
    },
    {
     "name": "stdout",
     "output_type": "stream",
     "text": [
      "    sparsity=[0.40,0.50,0.60,0.70,0.80,0.90]: accuracy=[92.94%, 92.64%, 92.46%, 91.77%, 89.85%, 78.56%]"
     ]
    },
    {
     "data": {
      "application/vnd.jupyter.widget-view+json": {
       "model_id": "d1160e2de0094d24b822b0abbce2db77",
       "version_major": 2,
       "version_minor": 0
      },
      "text/plain": [
       "scanning 3/9 weight - backbone.conv3.weight:   0%|          | 0/6 [00:00<?, ?it/s]"
      ]
     },
     "metadata": {},
     "output_type": "display_data"
    },
    {
     "name": "stdout",
     "output_type": "stream",
     "text": [
      "    sparsity=[0.40,0.50,0.60,0.70,0.80,0.90]: accuracy=[92.86%, 92.72%, 92.23%, 91.09%, 85.35%, 51.29%]"
     ]
    },
    {
     "data": {
      "application/vnd.jupyter.widget-view+json": {
       "model_id": "ffd5bea3f7f34ba883bd5a37287baaf4",
       "version_major": 2,
       "version_minor": 0
      },
      "text/plain": [
       "scanning 4/9 weight - backbone.conv4.weight:   0%|          | 0/6 [00:00<?, ?it/s]"
      ]
     },
     "metadata": {},
     "output_type": "display_data"
    },
    {
     "name": "stdout",
     "output_type": "stream",
     "text": [
      "    sparsity=[0.40,0.50,0.60,0.70,0.80,0.90]: accuracy=[92.88%, 92.68%, 92.22%, 89.47%, 76.86%, 38.78%]"
     ]
    },
    {
     "data": {
      "application/vnd.jupyter.widget-view+json": {
       "model_id": "cf619786141d45cf837f03c271aa7656",
       "version_major": 2,
       "version_minor": 0
      },
      "text/plain": [
       "scanning 5/9 weight - backbone.conv5.weight:   0%|          | 0/6 [00:00<?, ?it/s]"
      ]
     },
     "metadata": {},
     "output_type": "display_data"
    },
    {
     "name": "stdout",
     "output_type": "stream",
     "text": [
      "    sparsity=[0.40,0.50,0.60,0.70,0.80,0.90]: accuracy=[92.92%, 92.71%, 92.64%, 91.88%, 89.90%, 82.21%]"
     ]
    },
    {
     "data": {
      "application/vnd.jupyter.widget-view+json": {
       "model_id": "d4173cbcba9341b89024fa24fd41f976",
       "version_major": 2,
       "version_minor": 0
      },
      "text/plain": [
       "scanning 6/9 weight - backbone.conv6.weight:   0%|          | 0/6 [00:00<?, ?it/s]"
      ]
     },
     "metadata": {},
     "output_type": "display_data"
    },
    {
     "name": "stdout",
     "output_type": "stream",
     "text": [
      "    sparsity=[0.40,0.50,0.60,0.70,0.80,0.90]: accuracy=[92.95%, 92.86%, 92.65%, 92.10%, 90.58%, 83.64%]"
     ]
    },
    {
     "data": {
      "application/vnd.jupyter.widget-view+json": {
       "model_id": "c435c68f8fc044df94a0a22266b1d307",
       "version_major": 2,
       "version_minor": 0
      },
      "text/plain": [
       "scanning 7/9 weight - backbone.conv7.weight:   0%|          | 0/6 [00:00<?, ?it/s]"
      ]
     },
     "metadata": {},
     "output_type": "display_data"
    },
    {
     "name": "stdout",
     "output_type": "stream",
     "text": [
      "    sparsity=[0.40,0.50,0.60,0.70,0.80,0.90]: accuracy=[92.93%, 92.90%, 92.89%, 92.81%, 92.63%, 91.34%]"
     ]
    },
    {
     "data": {
      "application/vnd.jupyter.widget-view+json": {
       "model_id": "253d962521894aa5b3fe10231a02fa42",
       "version_major": 2,
       "version_minor": 0
      },
      "text/plain": [
       "scanning 8/9 weight - classifier.weight:   0%|          | 0/6 [00:00<?, ?it/s]"
      ]
     },
     "metadata": {},
     "output_type": "display_data"
    },
    {
     "name": "stdout",
     "output_type": "stream",
     "text": [
      "    sparsity=[0.40,0.50,0.60,0.70,0.80,0.90]: accuracy=[92.91%, 92.83%, 92.82%, 92.97%, 92.67%, 92.52%]"
     ]
    }
   ],
   "source": [
    "sparsities, accuracies = sensitivity_scan(\n",
    "    model, dataloader['test'], scan_step=0.1, scan_start=0.4, scan_end=1.0)"
   ]
  },
  {
   "cell_type": "code",
   "execution_count": 19,
   "metadata": {},
   "outputs": [
    {
     "data": {
      "image/png": "[encoded data removed]",
      "text/plain": [
       "<Figure size 1500x800 with 9 Axes>"
      ]
     },
     "metadata": {},
     "output_type": "display_data"
    }
   ],
   "source": [
    "def plot_sensitivity_scan(sparsities, accuracies, dense_model_accuracy):\n",
    "    lower_bound_accuracy = 100 - (100 - dense_model_accuracy) * 1.5\n",
    "    fig, axes = plt.subplots(3, int(math.ceil(len(accuracies) / 3)),figsize=(15,8))\n",
    "    axes = axes.ravel()\n",
    "    plot_index = 0\n",
    "    for name, param in model.named_parameters():\n",
    "        if param.dim() > 1:\n",
    "            ax = axes[plot_index]\n",
    "            curve = ax.plot(sparsities, accuracies[plot_index])\n",
    "            line = ax.plot(sparsities, [lower_bound_accuracy] * len(sparsities))\n",
    "            ax.set_xticks(np.arange(start=0.4, stop=1.0, step=0.1))\n",
    "            ax.set_ylim(80, 95)\n",
    "            ax.set_title(name)\n",
    "            ax.set_xlabel('sparsity')\n",
    "            ax.set_ylabel('top-1 accuracy')\n",
    "            ax.legend([\n",
    "                'accuracy after pruning',\n",
    "                f'{lower_bound_accuracy / dense_model_accuracy * 100:.0f}% of dense model accuracy'\n",
    "            ])\n",
    "            ax.grid(axis='x')\n",
    "            plot_index += 1\n",
    "    fig.suptitle('Sensitivity Curves: Validation Accuracy vs. Pruning Sparsity')\n",
    "    fig.tight_layout()\n",
    "    fig.subplots_adjust(top=0.925)\n",
    "    plt.show()\n",
    "\n",
    "plot_sensitivity_scan(sparsities, accuracies, dense_model_accuracy)"
   ]
  },
  {
   "cell_type": "markdown",
   "metadata": {},
   "source": [
    "##### 问题4（15分）\n",
    "请使用上述灵敏度曲线中的信息回答以下问题。\n",
    "\n",
    "##### 问题4.1（5分）\n",
    "剪枝稀疏性和模型精度之间的关系是什么？（即，当稀疏性变得更高时，精度是增加还是减少？）\n",
    "\n",
    "答：稀疏性越高精度减少\n",
    "* 剪枝通过去除模型中一些权重来提高计算效率和减少内存占用，而高稀疏性意味着去除了更多的权重。"
   ]
  },
  {
   "cell_type": "markdown",
   "metadata": {},
   "source": [
    "##### 问题4.2（5分）\n",
    "所有层的灵敏度都一样吗？\n",
    "\n",
    "答：不一样"
   ]
  },
  {
   "cell_type": "markdown",
   "metadata": {},
   "source": [
    "##### 问题4.3（5分）\n",
    "哪一层对修剪稀疏最敏感？\n",
    "\n",
    "答：backbone.conv0.weight 第一个卷积层"
   ]
  },
  {
   "cell_type": "markdown",
   "metadata": {},
   "source": [
    "#### 每一层参数\n",
    "除了精度，每个层的参数数量也会影响稀疏度选择的决策。参数越多的层需要更大的稀疏度。\n",
    "\n",
    "请运行以下代码单元格来绘制整个模型中参数的分布。"
   ]
  },
  {
   "cell_type": "code",
   "execution_count": 20,
   "metadata": {},
   "outputs": [
    {
     "data": {
      "image/png": "[encoded data removed]",
      "text/plain": [
       "<Figure size 800x600 with 1 Axes>"
      ]
     },
     "metadata": {},
     "output_type": "display_data"
    }
   ],
   "source": [
    "def plot_num_parameters_distribution(model):\n",
    "    num_parameters = dict()\n",
    "    for name, param in model.named_parameters():\n",
    "        if param.dim() > 1:\n",
    "            num_parameters[name] = param.numel()\n",
    "    fig = plt.figure(figsize=(8, 6))\n",
    "    plt.grid(axis='y')\n",
    "    plt.bar(list(num_parameters.keys()), list(num_parameters.values()))\n",
    "    plt.title('#Parameter Distribution')\n",
    "    plt.ylabel('Number of Parameters')\n",
    "    plt.xticks(rotation=60)\n",
    "    plt.tight_layout()\n",
    "    plt.show()\n",
    "\n",
    "plot_num_parameters_distribution(model)"
   ]
  },
  {
   "cell_type": "markdown",
   "metadata": {},
   "source": [
    "#### 选择稀疏性\n",
    "根据灵敏度曲线和模型中参数的分布，请选择每一层的稀疏度\n",
    "##### 问题5（10分）\n",
    "根据灵敏度曲线和模型中参数的分布，请选择每一层的稀疏度。\n",
    "\n",
    "请注意，修剪模型的整体压缩比主要取决于#参数较大的层，不同的层对修剪的敏感性不同（见问题4）。\n",
    "\n",
    "请确保修剪后稀疏模型是密集模型大小的25%，微调后验证精度高于92.5。\n",
    "\n",
    "提示：\n",
    "* 具有更多#参数的层应该具有更大的稀疏性。（参见图参数分布）\n",
    "* 对修剪稀疏性敏感的层（即，随着稀疏性变得更高，精度会迅速下降）应该具有更小的稀疏性。（参见图灵敏度曲线）"
   ]
  },
  {
   "cell_type": "code",
   "execution_count": 31,
   "metadata": {},
   "outputs": [],
   "source": [
    "recover_model()\n",
    "\n",
    "sparsity_dict = {\n",
    "##################### YOUR CODE STARTS HERE #####################\n",
    "    # please modify the sparsity value of each layer\n",
    "    # please DO NOT modify the key of sparsity_dict\n",
    "    'backbone.conv0.weight': 0.3,\n",
    "    'backbone.conv1.weight': 0.4,\n",
    "    'backbone.conv2.weight': 0.4,\n",
    "    'backbone.conv3.weight': 0.5,\n",
    "    'backbone.conv4.weight': 0.7,\n",
    "    'backbone.conv5.weight': 0.8,\n",
    "    'backbone.conv6.weight': 0.8,\n",
    "    'backbone.conv7.weight': 0.8,\n",
    "    'classifier.weight': 0.6\n",
    "##################### YOUR CODE ENDS HERE #######################\n",
    "}"
   ]
  },
  {
   "cell_type": "markdown",
   "metadata": {},
   "source": [
    "请运行以下单元格根据您定义的sparsity_dict修剪模型，并打印稀疏模型的信息。"
   ]
  },
  {
   "cell_type": "code",
   "execution_count": 32,
   "metadata": {},
   "outputs": [
    {
     "name": "stdout",
     "output_type": "stream",
     "text": [
      "After pruning with sparsity dictionary\n",
      "  backbone.conv0.weight: 0.30\n",
      "  backbone.conv1.weight: 0.40\n",
      "  backbone.conv2.weight: 0.40\n",
      "  backbone.conv3.weight: 0.50\n",
      "  backbone.conv4.weight: 0.70\n",
      "  backbone.conv5.weight: 0.80\n",
      "  backbone.conv6.weight: 0.80\n",
      "  backbone.conv7.weight: 0.80\n",
      "  classifier.weight: 0.60\n",
      "The sparsity of each layer becomes\n",
      "  backbone.conv0.weight: 0.30\n",
      "  backbone.conv1.weight: 0.40\n",
      "  backbone.conv2.weight: 0.40\n",
      "  backbone.conv3.weight: 0.50\n",
      "  backbone.conv4.weight: 0.70\n",
      "  backbone.conv5.weight: 0.80\n",
      "  backbone.conv6.weight: 0.80\n",
      "  backbone.conv7.weight: 0.80\n",
      "  classifier.weight: 0.60\n",
      "Sparse model has size=8.75 MiB = 24.86% of dense model size\n"
     ]
    },
    {
     "data": {
      "application/vnd.jupyter.widget-view+json": {
       "model_id": "39717dfc5602466aa4506179c33ea463",
       "version_major": 2,
       "version_minor": 0
      },
      "text/plain": [
       "eval:   0%|          | 0/20 [00:00<?, ?it/s]"
      ]
     },
     "metadata": {},
     "output_type": "display_data"
    },
    {
     "name": "stdout",
     "output_type": "stream",
     "text": [
      "Sparse model has accuracy=88.09% before fintuning\n"
     ]
    },
    {
     "data": {
      "image/png": "[encoded data removed]",
      "text/plain": [
       "<Figure size 1000x600 with 9 Axes>"
      ]
     },
     "metadata": {},
     "output_type": "display_data"
    }
   ],
   "source": [
    "pruner = FineGrainedPruner(model, sparsity_dict)\n",
    "print(f'After pruning with sparsity dictionary')\n",
    "for name, sparsity in sparsity_dict.items():\n",
    "    print(f'  {name}: {sparsity:.2f}')\n",
    "print(f'The sparsity of each layer becomes')\n",
    "for name, param in model.named_parameters():\n",
    "    if name in sparsity_dict:\n",
    "        print(f'  {name}: {get_sparsity(param):.2f}')\n",
    "\n",
    "sparse_model_size = get_model_size(model, count_nonzero_only=True)\n",
    "print(f\"Sparse model has size={sparse_model_size / MiB:.2f} MiB = {sparse_model_size / dense_model_size * 100:.2f}% of dense model size\")\n",
    "sparse_model_accuracy = evaluate(model, dataloader['test'])\n",
    "print(f\"Sparse model has accuracy={sparse_model_accuracy:.2f}% before fintuning\")\n",
    "\n",
    "plot_weight_distribution(model, count_nonzero_only=True)"
   ]
  },
  {
   "cell_type": "markdown",
   "metadata": {},
   "source": [
    "#### 微调细粒度修剪模型\n",
    "从上一个单元的输出可以看出，尽管细粒度剪枝减少了大部分模型权重，但模型的精度也下降了。因此，我们必须微调稀疏模型来恢复精度。\n",
    "\n",
    "请运行以下单元格来微调稀疏模型。大约需要3分钟才能完成。"
   ]
  },
  {
   "cell_type": "code",
   "execution_count": 33,
   "metadata": {},
   "outputs": [
    {
     "name": "stdout",
     "output_type": "stream",
     "text": [
      "Finetuning Fine-grained Pruned Sparse Model\n"
     ]
    },
    {
     "data": {
      "application/vnd.jupyter.widget-view+json": {
       "model_id": "982f3a5e67ef491fbf0526c3cb1579ba",
       "version_major": 2,
       "version_minor": 0
      },
      "text/plain": [
       "train:   0%|          | 0/98 [00:00<?, ?it/s]"
      ]
     },
     "metadata": {},
     "output_type": "display_data"
    },
    {
     "data": {
      "application/vnd.jupyter.widget-view+json": {
       "model_id": "f31cd6ac62e04a52b4b7d9256d08b1bd",
       "version_major": 2,
       "version_minor": 0
      },
      "text/plain": [
       "eval:   0%|          | 0/20 [00:00<?, ?it/s]"
      ]
     },
     "metadata": {},
     "output_type": "display_data"
    },
    {
     "name": "stdout",
     "output_type": "stream",
     "text": [
      "    Epoch 1 Accuracy 92.46% / Best Accuracy: 92.46%\n"
     ]
    },
    {
     "data": {
      "application/vnd.jupyter.widget-view+json": {
       "model_id": "a57c2b54ab144b87950292ea7724ce21",
       "version_major": 2,
       "version_minor": 0
      },
      "text/plain": [
       "train:   0%|          | 0/98 [00:00<?, ?it/s]"
      ]
     },
     "metadata": {},
     "output_type": "display_data"
    },
    {
     "data": {
      "application/vnd.jupyter.widget-view+json": {
       "model_id": "8de033f311aa443891b87e6452fdbf89",
       "version_major": 2,
       "version_minor": 0
      },
      "text/plain": [
       "eval:   0%|          | 0/20 [00:00<?, ?it/s]"
      ]
     },
     "metadata": {},
     "output_type": "display_data"
    },
    {
     "name": "stdout",
     "output_type": "stream",
     "text": [
      "    Epoch 2 Accuracy 92.70% / Best Accuracy: 92.70%\n"
     ]
    },
    {
     "data": {
      "application/vnd.jupyter.widget-view+json": {
       "model_id": "406cc5c21831477bb7015beb11b345f5",
       "version_major": 2,
       "version_minor": 0
      },
      "text/plain": [
       "train:   0%|          | 0/98 [00:00<?, ?it/s]"
      ]
     },
     "metadata": {},
     "output_type": "display_data"
    },
    {
     "data": {
      "application/vnd.jupyter.widget-view+json": {
       "model_id": "df9cc630f6cc4cbe9a93817989ce976e",
       "version_major": 2,
       "version_minor": 0
      },
      "text/plain": [
       "eval:   0%|          | 0/20 [00:00<?, ?it/s]"
      ]
     },
     "metadata": {},
     "output_type": "display_data"
    },
    {
     "name": "stdout",
     "output_type": "stream",
     "text": [
      "    Epoch 3 Accuracy 92.82% / Best Accuracy: 92.82%\n"
     ]
    },
    {
     "data": {
      "application/vnd.jupyter.widget-view+json": {
       "model_id": "74c7b713a3fe463aaac87d962c3ff1b6",
       "version_major": 2,
       "version_minor": 0
      },
      "text/plain": [
       "train:   0%|          | 0/98 [00:00<?, ?it/s]"
      ]
     },
     "metadata": {},
     "output_type": "display_data"
    },
    {
     "data": {
      "application/vnd.jupyter.widget-view+json": {
       "model_id": "3cf53b1fe1ce45bb9fd8c97f06d71b67",
       "version_major": 2,
       "version_minor": 0
      },
      "text/plain": [
       "eval:   0%|          | 0/20 [00:00<?, ?it/s]"
      ]
     },
     "metadata": {},
     "output_type": "display_data"
    },
    {
     "name": "stdout",
     "output_type": "stream",
     "text": [
      "    Epoch 4 Accuracy 92.83% / Best Accuracy: 92.83%\n"
     ]
    },
    {
     "data": {
      "application/vnd.jupyter.widget-view+json": {
       "model_id": "34a8f52f1ac94540a306ef32778a49e0",
       "version_major": 2,
       "version_minor": 0
      },
      "text/plain": [
       "train:   0%|          | 0/98 [00:00<?, ?it/s]"
      ]
     },
     "metadata": {},
     "output_type": "display_data"
    },
    {
     "data": {
      "application/vnd.jupyter.widget-view+json": {
       "model_id": "5841d2756da945d682cba6f844060185",
       "version_major": 2,
       "version_minor": 0
      },
      "text/plain": [
       "eval:   0%|          | 0/20 [00:00<?, ?it/s]"
      ]
     },
     "metadata": {},
     "output_type": "display_data"
    },
    {
     "name": "stdout",
     "output_type": "stream",
     "text": [
      "    Epoch 5 Accuracy 92.74% / Best Accuracy: 92.83%\n"
     ]
    }
   ],
   "source": [
    "num_finetune_epochs = 5\n",
    "optimizer = torch.optim.SGD(model.parameters(), lr=0.01, momentum=0.9, weight_decay=1e-4)\n",
    "scheduler = torch.optim.lr_scheduler.CosineAnnealingLR(optimizer, num_finetune_epochs)\n",
    "criterion = nn.CrossEntropyLoss()\n",
    "\n",
    "best_sparse_model_checkpoint = dict()\n",
    "best_accuracy = 0\n",
    "print(f'Finetuning Fine-grained Pruned Sparse Model')\n",
    "for epoch in range(num_finetune_epochs):\n",
    "    # At the end of each train iteration, we have to apply the pruning mask\n",
    "    #    to keep the model sparse during the training\n",
    "    train(model, dataloader['train'], criterion, optimizer, scheduler,\n",
    "          callbacks=[lambda: pruner.apply(model)])\n",
    "    accuracy = evaluate(model, dataloader['test'])\n",
    "    is_best = accuracy > best_accuracy\n",
    "    if is_best:\n",
    "        best_sparse_model_checkpoint['state_dict'] = copy.deepcopy(model.state_dict())\n",
    "        best_accuracy = accuracy\n",
    "    print(f'    Epoch {epoch+1} Accuracy {accuracy:.2f}% / Best Accuracy: {best_accuracy:.2f}%')"
   ]
  },
  {
   "cell_type": "markdown",
   "metadata": {},
   "source": [
    "运行以下单元格以查看最佳微调稀疏模型的信息。"
   ]
  },
  {
   "cell_type": "code",
   "execution_count": 34,
   "metadata": {},
   "outputs": [
    {
     "name": "stdout",
     "output_type": "stream",
     "text": [
      "Sparse model has size=8.75 MiB = 24.86% of dense model size\n"
     ]
    },
    {
     "data": {
      "application/vnd.jupyter.widget-view+json": {
       "model_id": "a479468d52384442b035b32025009a23",
       "version_major": 2,
       "version_minor": 0
      },
      "text/plain": [
       "eval:   0%|          | 0/20 [00:00<?, ?it/s]"
      ]
     },
     "metadata": {},
     "output_type": "display_data"
    },
    {
     "name": "stdout",
     "output_type": "stream",
     "text": [
      "Sparse model has accuracy=92.83% after fintuning\n"
     ]
    }
   ],
   "source": [
    "# load the best sparse model checkpoint to evaluate the final performance\n",
    "model.load_state_dict(best_sparse_model_checkpoint['state_dict'])\n",
    "sparse_model_size = get_model_size(model, count_nonzero_only=True)\n",
    "print(f\"Sparse model has size={sparse_model_size / MiB:.2f} MiB = {sparse_model_size / dense_model_size * 100:.2f}% of dense model size\")\n",
    "sparse_model_accuracy = evaluate(model, dataloader['test'])\n",
    "print(f\"Sparse model has accuracy={sparse_model_accuracy:.2f}% after fintuning\")"
   ]
  },
  {
   "cell_type": "markdown",
   "metadata": {},
   "source": [
    "### 通道修剪\n",
    "在本节中，我们将实现通道剪枝。通道剪枝删除了整个通道，以便在现有硬件（如GPU）上实现推理速度。同样，我们删除了权重较小的通道（由Frobenius范数测量）。"
   ]
  },
  {
   "cell_type": "code",
   "execution_count": 35,
   "metadata": {},
   "outputs": [
    {
     "data": {
      "application/vnd.jupyter.widget-view+json": {
       "model_id": "3d68547963f349ecb3d9f5bb78702a7b",
       "version_major": 2,
       "version_minor": 0
      },
      "text/plain": [
       "eval:   0%|          | 0/20 [00:00<?, ?it/s]"
      ]
     },
     "metadata": {},
     "output_type": "display_data"
    },
    {
     "name": "stdout",
     "output_type": "stream",
     "text": [
      "dense model has accuracy=92.95%\n"
     ]
    }
   ],
   "source": [
    "# firstly, let's restore the model weights to the original dense version\n",
    "#   and check the validation accuracy\n",
    "recover_model()\n",
    "dense_model_accuracy = evaluate(model, dataloader['test'])\n",
    "print(f\"dense model has accuracy={dense_model_accuracy:.2f}%\")"
   ]
  },
  {
   "cell_type": "markdown",
   "metadata": {},
   "source": [
    "#### 删除通道权重\n",
    "与细粒度剪枝不同，我们可以在通道剪枝中完全从张量中去除权重。也就是说，减少了输出通道的数量：\n",
    "\n",
    "`#out_channelsnew=#out_channelsorigin⋅(1−sparsity)`\n",
    "\n",
    "权重张量 W 通道修剪后仍然密集。因此，我们将参考稀疏性作为修剪率.\n",
    "\n",
    "像细粒度的剪枝，我们可以对不同的图层使用不同的剪枝率，但是，我们目前对所有图层使用统一的剪枝率，我们的目标是减少2倍的计算量，大致是30%的统一剪枝率（想想为什么）。\n",
    "\n",
    "请在本节末尾尝试每层不同的修剪比率。您可以将比率列表传递给channel_prune函数。"
   ]
  },
  {
   "cell_type": "markdown",
   "metadata": {},
   "source": [
    "##### 问题6（10分）\n",
    "请完成以下通道修剪功能。\n",
    "\n",
    "在这里，我们天真地修剪除第一个之外的所有输出通道 #out_channels new的 频道。"
   ]
  },
  {
   "cell_type": "code",
   "execution_count": 42,
   "metadata": {},
   "outputs": [],
   "source": [
    "# 计算在剪枝操作后需要保留的通道数量。通道剪枝的基本思路是根据 prune_ratio(剪枝比例) 来确定从 channels 中保留的数量\n",
    "def get_num_channels_to_keep(channels: int, prune_ratio: float) -> int:\n",
    "    \"\"\"A function to calculate the number of layers to PRESERVE after pruning\n",
    "    Note that preserve_rate = 1. - prune_ratio\n",
    "    \"\"\"\n",
    "    ##################### YOUR CODE STARTS HERE #####################\n",
    "    return int(round(channels * (1 - prune_ratio)))\n",
    "    ##################### YOUR CODE ENDS HERE #####################\n",
    "\n",
    "# 对模型中的卷积层执行通道剪枝\n",
    "@torch.no_grad()\n",
    "def channel_prune(model: nn.Module,\n",
    "                  prune_ratio: Union[List, float]) -> nn.Module:\n",
    "    \"\"\"Apply channel pruning to each of the conv layer in the backbone\n",
    "    Note that for prune_ratio, we can either provide a floating-point number,\n",
    "    indicating that we use a uniform pruning rate for all layers, or a list of\n",
    "    numbers to indicate per-layer pruning rate.\n",
    "    \"\"\"\n",
    "    # 检查 prune_ratio 类型并处理\n",
    "    assert isinstance(prune_ratio, (float, list))\n",
    "    n_conv = len([m for m in model.backbone if isinstance(m, nn.Conv2d)])\n",
    "    # note that for the ratios, it affects the previous conv output and next\n",
    "    # conv input, i.e., conv0 - ratio0 - conv1 - ratio1-...\n",
    "    # 如果 prune_ratio 是 float，转为列表格式\n",
    "    if isinstance(prune_ratio, list):\n",
    "        assert len(prune_ratio) == n_conv - 1\n",
    "    else:  # convert float to list\n",
    "        prune_ratio = [prune_ratio] * (n_conv - 1)\n",
    "\n",
    "    # 深拷贝模型以防止覆盖\n",
    "    model = copy.deepcopy(model)  # prevent overwrite\n",
    "    # we only apply pruning to the backbone features\n",
    "    all_convs = [m for m in model.backbone if isinstance(m, nn.Conv2d)]\n",
    "    all_bns = [m for m in model.backbone if isinstance(m, nn.BatchNorm2d)]\n",
    "    # apply pruning. we naively keep the first k channels\n",
    "    assert len(all_convs) == len(all_bns)\n",
    "\n",
    "    for i_ratio, p_ratio in enumerate(prune_ratio):\n",
    "        prev_conv = all_convs[i_ratio]\n",
    "        prev_bn = all_bns[i_ratio]\n",
    "        next_conv = all_convs[i_ratio + 1]\n",
    "        original_channels = prev_conv.out_channels  # same as next_conv.in_channels\n",
    "        n_keep = get_num_channels_to_keep(original_channels, p_ratio)\n",
    "\n",
    "        # 修剪上一卷积层的输出和批归一化层\n",
    "        prev_conv.weight.set_(prev_conv.weight.detach()[:n_keep])\n",
    "        prev_bn.weight.set_(prev_bn.weight.detach()[:n_keep])\n",
    "        prev_bn.bias.set_(prev_bn.bias.detach()[:n_keep])\n",
    "        prev_bn.running_mean.set_(prev_bn.running_mean.detach()[:n_keep])\n",
    "        prev_bn.running_var.set_(prev_bn.running_var.detach()[:n_keep])\n",
    "\n",
    "        # 修剪下一卷积层的输入\n",
    "        # 将当前层的权重张量从计算图中分离出来, 避免在反向传播中计算梯度\n",
    "        # 表示从权重张量中保留所有输出通道（:），但仅保留前 n_keep 个输入通道\n",
    "        # 希望保留与上一层输出通道对应的输入通道，以保持模型的连贯性\n",
    "        ##################### YOUR CODE STARTS HERE #####################\n",
    "        next_conv.weight.set_(next_conv.weight.detach()[:, :n_keep])\n",
    "        ##################### YOUR CODE ENDS HERE #####################\n",
    "\n",
    "    return model\n"
   ]
  },
  {
   "cell_type": "markdown",
   "metadata": {},
   "source": [
    "运行以下单元格以执行健全性检查以确保实现正确。"
   ]
  },
  {
   "cell_type": "code",
   "execution_count": 43,
   "metadata": {},
   "outputs": [
    {
     "name": "stdout",
     "output_type": "stream",
     "text": [
      "* Check passed. Right MACs for the pruned model.\n"
     ]
    }
   ],
   "source": [
    "dummy_input = torch.randn(1, 3, 32, 32).cuda()\n",
    "pruned_model = channel_prune(model, prune_ratio=0.3)\n",
    "pruned_macs = get_model_macs(pruned_model, dummy_input)\n",
    "assert pruned_macs == 305388064\n",
    "print('* Check passed. Right MACs for the pruned model.')"
   ]
  },
  {
   "cell_type": "markdown",
   "metadata": {},
   "source": [
    "现在让我们以30%的剪枝率评估均匀通道剪枝后模型的性能。\n",
    "\n",
    "如您所见，直接删除30%的通道会导致准确率低。"
   ]
  },
  {
   "cell_type": "code",
   "execution_count": 44,
   "metadata": {},
   "outputs": [
    {
     "data": {
      "application/vnd.jupyter.widget-view+json": {
       "model_id": "67ffe1faebaf43469bfac407f446e91b",
       "version_major": 2,
       "version_minor": 0
      },
      "text/plain": [
       "eval:   0%|          | 0/20 [00:00<?, ?it/s]"
      ]
     },
     "metadata": {},
     "output_type": "display_data"
    },
    {
     "name": "stdout",
     "output_type": "stream",
     "text": [
      "pruned model has accuracy=28.15%\n"
     ]
    }
   ],
   "source": [
    "pruned_model_accuracy = evaluate(pruned_model, dataloader['test'])\n",
    "print(f\"pruned model has accuracy={pruned_model_accuracy:.2f}%\")"
   ]
  },
  {
   "cell_type": "markdown",
   "metadata": {},
   "source": [
    "#### 按重要性对频道进行排名\n",
    "如您所见，删除所有层中的前30%通道会导致精度显着降低。解决这个问题的一种潜在方法是找到要删除的不太重要的通道权重。重要性的一个流行标准是使用每个输入通道对应的权重的Frobenius范数：\n",
    "\n",
    "`importancei=∥Wi∥2,i=0,1,2,⋯,#in_channels−1`\n",
    "\n",
    "我们可以将渠道权重从更重要到不太重要进行排序，然后保持第一 k 每一层的通道。"
   ]
  },
  {
   "cell_type": "markdown",
   "metadata": {},
   "source": [
    "##### 问题7（15分）\n",
    "请完成以下基于Frobenius范数对权重张量进行排序的函数。\n",
    "\n",
    "提示：\n",
    "* 为了计算张量的Frobenius范数，Pytorch提供了`torch.norm`API。"
   ]
  },
  {
   "cell_type": "code",
   "execution_count": 45,
   "metadata": {},
   "outputs": [],
   "source": [
    "# function to sort the channels from important to non-important\n",
    "def get_input_channel_importance(weight):\n",
    "    in_channels = weight.shape[1]\n",
    "    importances = []\n",
    "    # compute the importance for each input channel\n",
    "    for i_c in range(weight.shape[1]):\n",
    "        channel_weight = weight.detach()[:, i_c]\n",
    "        ##################### YOUR CODE STARTS HERE #####################\n",
    "        # 计算 Frobenius 范数\n",
    "        importance = torch.norm(channel_weight, p='fro')\n",
    "        ##################### YOUR CODE ENDS HERE #####################\n",
    "        importances.append(importance.view(1))\n",
    "    return torch.cat(importances)\n",
    "\n",
    "@torch.no_grad()\n",
    "def apply_channel_sorting(model):\n",
    "    model = copy.deepcopy(model)  # do not modify the original model\n",
    "    # fetch all the conv and bn layers from the backbone\n",
    "    all_convs = [m for m in model.backbone if isinstance(m, nn.Conv2d)]\n",
    "    all_bns = [m for m in model.backbone if isinstance(m, nn.BatchNorm2d)]\n",
    "    # iterate through conv layers\n",
    "    for i_conv in range(len(all_convs) - 1):\n",
    "        # each channel sorting index, we need to apply it to:\n",
    "        # - the output dimension of the previous conv\n",
    "        # - the previous BN layer\n",
    "        # - the input dimension of the next conv (we compute importance here)\n",
    "        prev_conv = all_convs[i_conv]\n",
    "        prev_bn = all_bns[i_conv]\n",
    "        next_conv = all_convs[i_conv + 1]\n",
    "        # note that we always compute the importance according to input channels\n",
    "        importance = get_input_channel_importance(next_conv.weight)\n",
    "        # sorting from large to small\n",
    "        sort_idx = torch.argsort(importance, descending=True)\n",
    "\n",
    "        # apply to previous conv and its following bn\n",
    "        prev_conv.weight.copy_(torch.index_select(\n",
    "            prev_conv.weight.detach(), 0, sort_idx))\n",
    "        for tensor_name in ['weight', 'bias', 'running_mean', 'running_var']:\n",
    "            tensor_to_apply = getattr(prev_bn, tensor_name)\n",
    "            tensor_to_apply.copy_(\n",
    "                torch.index_select(tensor_to_apply.detach(), 0, sort_idx)\n",
    "            )\n",
    "\n",
    "        # apply to the next conv input (hint: one line of code)\n",
    "        ##################### YOUR CODE STARTS HERE #####################\n",
    "        # 根据之前计算出的通道重要性对下一个卷积层的输入通道进行排序和更新\n",
    "        # detach() 方法用于返回一个新的张量，该张量与原张量共享数据但不计算梯度\n",
    "        next_conv.weight.copy_(torch.index_select(next_conv.weight.detach(), 1, sort_idx))\n",
    "        ##################### YOUR CODE ENDS HERE #####################\n",
    "\n",
    "    return model"
   ]
  },
  {
   "cell_type": "markdown",
   "metadata": {},
   "source": [
    "现在运行以下单元格以检查结果是否正确。"
   ]
  },
  {
   "cell_type": "code",
   "execution_count": 46,
   "metadata": {},
   "outputs": [
    {
     "name": "stdout",
     "output_type": "stream",
     "text": [
      "Before sorting...\n"
     ]
    },
    {
     "data": {
      "application/vnd.jupyter.widget-view+json": {
       "model_id": "e68ed577d2e44bd7a3aa058c053e60b9",
       "version_major": 2,
       "version_minor": 0
      },
      "text/plain": [
       "eval:   0%|          | 0/20 [00:00<?, ?it/s]"
      ]
     },
     "metadata": {},
     "output_type": "display_data"
    },
    {
     "name": "stdout",
     "output_type": "stream",
     "text": [
      "dense model has accuracy=92.95%\n",
      "After sorting...\n"
     ]
    },
    {
     "data": {
      "application/vnd.jupyter.widget-view+json": {
       "model_id": "910b53901f6e4e16a8532b2399d7a9ea",
       "version_major": 2,
       "version_minor": 0
      },
      "text/plain": [
       "eval:   0%|          | 0/20 [00:00<?, ?it/s]"
      ]
     },
     "metadata": {},
     "output_type": "display_data"
    },
    {
     "name": "stdout",
     "output_type": "stream",
     "text": [
      "sorted model has accuracy=92.95%\n",
      "* Check passed.\n"
     ]
    }
   ],
   "source": [
    "print('Before sorting...')\n",
    "dense_model_accuracy = evaluate(model, dataloader['test'])\n",
    "print(f\"dense model has accuracy={dense_model_accuracy:.2f}%\")\n",
    "\n",
    "print('After sorting...')\n",
    "sorted_model = apply_channel_sorting(model)\n",
    "sorted_model_accuracy = evaluate(sorted_model, dataloader['test'])\n",
    "print(f\"sorted model has accuracy={sorted_model_accuracy:.2f}%\")\n",
    "\n",
    "# make sure accuracy does not change after sorting, since it is\n",
    "# equivalent transform\n",
    "assert abs(sorted_model_accuracy - dense_model_accuracy) < 0.1\n",
    "print('* Check passed.')"
   ]
  },
  {
   "cell_type": "markdown",
   "metadata": {},
   "source": [
    "最后，我们比较了有排序和没有排序的剪枝模型的准确性。"
   ]
  },
  {
   "cell_type": "code",
   "execution_count": 47,
   "metadata": {},
   "outputs": [
    {
     "name": "stdout",
     "output_type": "stream",
     "text": [
      " * Without sorting...\n"
     ]
    },
    {
     "data": {
      "application/vnd.jupyter.widget-view+json": {
       "model_id": "ff4839c3d12547c4b102905065745f44",
       "version_major": 2,
       "version_minor": 0
      },
      "text/plain": [
       "eval:   0%|          | 0/20 [00:00<?, ?it/s]"
      ]
     },
     "metadata": {},
     "output_type": "display_data"
    },
    {
     "name": "stdout",
     "output_type": "stream",
     "text": [
      "pruned model has accuracy=28.15%\n",
      " * With sorting...\n"
     ]
    },
    {
     "data": {
      "application/vnd.jupyter.widget-view+json": {
       "model_id": "706a8ccac09a45129670a362620b03eb",
       "version_major": 2,
       "version_minor": 0
      },
      "text/plain": [
       "eval:   0%|          | 0/20 [00:00<?, ?it/s]"
      ]
     },
     "metadata": {},
     "output_type": "display_data"
    },
    {
     "name": "stdout",
     "output_type": "stream",
     "text": [
      "pruned model has accuracy=36.81%\n"
     ]
    }
   ],
   "source": [
    "channel_pruning_ratio = 0.3  # pruned-out ratio\n",
    "\n",
    "print(\" * Without sorting...\")\n",
    "pruned_model = channel_prune(model, channel_pruning_ratio)\n",
    "pruned_model_accuracy = evaluate(pruned_model, dataloader['test'])\n",
    "print(f\"pruned model has accuracy={pruned_model_accuracy:.2f}%\")\n",
    "\n",
    "\n",
    "print(\" * With sorting...\")\n",
    "sorted_model = apply_channel_sorting(model)\n",
    "pruned_model = channel_prune(sorted_model, channel_pruning_ratio)\n",
    "pruned_model_accuracy = evaluate(pruned_model, dataloader['test'])\n",
    "print(f\"pruned model has accuracy={pruned_model_accuracy:.2f}%\")\n"
   ]
  },
  {
   "cell_type": "markdown",
   "metadata": {},
   "source": [
    "如您所见，通道排序可以稍微提高修剪模型的准确性，但仍然存在巨大的降级，这对于通道修剪来说很常见。但幸运的是，我们可以执行微调以恢复准确性。"
   ]
  },
  {
   "cell_type": "code",
   "execution_count": 48,
   "metadata": {},
   "outputs": [
    {
     "data": {
      "application/vnd.jupyter.widget-view+json": {
       "model_id": "e3a7aba029fd4f88bd1c79c8a7c43176",
       "version_major": 2,
       "version_minor": 0
      },
      "text/plain": [
       "train:   0%|          | 0/98 [00:00<?, ?it/s]"
      ]
     },
     "metadata": {},
     "output_type": "display_data"
    },
    {
     "data": {
      "application/vnd.jupyter.widget-view+json": {
       "model_id": "31f858217bff40aca679de6d923eef1c",
       "version_major": 2,
       "version_minor": 0
      },
      "text/plain": [
       "eval:   0%|          | 0/20 [00:00<?, ?it/s]"
      ]
     },
     "metadata": {},
     "output_type": "display_data"
    },
    {
     "name": "stdout",
     "output_type": "stream",
     "text": [
      "Epoch 1 Accuracy 91.75% / Best Accuracy: 91.75%\n"
     ]
    },
    {
     "data": {
      "application/vnd.jupyter.widget-view+json": {
       "model_id": "532e841431b6424885dd082c886e89b6",
       "version_major": 2,
       "version_minor": 0
      },
      "text/plain": [
       "train:   0%|          | 0/98 [00:00<?, ?it/s]"
      ]
     },
     "metadata": {},
     "output_type": "display_data"
    },
    {
     "data": {
      "application/vnd.jupyter.widget-view+json": {
       "model_id": "163d6679b59d4d34b0908edbf4585997",
       "version_major": 2,
       "version_minor": 0
      },
      "text/plain": [
       "eval:   0%|          | 0/20 [00:00<?, ?it/s]"
      ]
     },
     "metadata": {},
     "output_type": "display_data"
    },
    {
     "name": "stdout",
     "output_type": "stream",
     "text": [
      "Epoch 2 Accuracy 91.90% / Best Accuracy: 91.90%\n"
     ]
    },
    {
     "data": {
      "application/vnd.jupyter.widget-view+json": {
       "model_id": "2588caf6c7454892ab2747722578af42",
       "version_major": 2,
       "version_minor": 0
      },
      "text/plain": [
       "train:   0%|          | 0/98 [00:00<?, ?it/s]"
      ]
     },
     "metadata": {},
     "output_type": "display_data"
    },
    {
     "data": {
      "application/vnd.jupyter.widget-view+json": {
       "model_id": "de0be6d436134701b33287d7fd27501d",
       "version_major": 2,
       "version_minor": 0
      },
      "text/plain": [
       "eval:   0%|          | 0/20 [00:00<?, ?it/s]"
      ]
     },
     "metadata": {},
     "output_type": "display_data"
    },
    {
     "name": "stdout",
     "output_type": "stream",
     "text": [
      "Epoch 3 Accuracy 91.90% / Best Accuracy: 91.90%\n"
     ]
    },
    {
     "data": {
      "application/vnd.jupyter.widget-view+json": {
       "model_id": "ff267f387705447a86447e386b27ebde",
       "version_major": 2,
       "version_minor": 0
      },
      "text/plain": [
       "train:   0%|          | 0/98 [00:00<?, ?it/s]"
      ]
     },
     "metadata": {},
     "output_type": "display_data"
    },
    {
     "data": {
      "application/vnd.jupyter.widget-view+json": {
       "model_id": "1a24b781e68f461dbf9ea8493c1006a4",
       "version_major": 2,
       "version_minor": 0
      },
      "text/plain": [
       "eval:   0%|          | 0/20 [00:00<?, ?it/s]"
      ]
     },
     "metadata": {},
     "output_type": "display_data"
    },
    {
     "name": "stdout",
     "output_type": "stream",
     "text": [
      "Epoch 4 Accuracy 92.13% / Best Accuracy: 92.13%\n"
     ]
    },
    {
     "data": {
      "application/vnd.jupyter.widget-view+json": {
       "model_id": "f56a9828922f48ff90b5e2a5c8556efa",
       "version_major": 2,
       "version_minor": 0
      },
      "text/plain": [
       "train:   0%|          | 0/98 [00:00<?, ?it/s]"
      ]
     },
     "metadata": {},
     "output_type": "display_data"
    },
    {
     "data": {
      "application/vnd.jupyter.widget-view+json": {
       "model_id": "d6378920b2d24303ae881526e064ca95",
       "version_major": 2,
       "version_minor": 0
      },
      "text/plain": [
       "eval:   0%|          | 0/20 [00:00<?, ?it/s]"
      ]
     },
     "metadata": {},
     "output_type": "display_data"
    },
    {
     "name": "stdout",
     "output_type": "stream",
     "text": [
      "Epoch 5 Accuracy 92.37% / Best Accuracy: 92.37%\n"
     ]
    }
   ],
   "source": [
    "num_finetune_epochs = 5\n",
    "optimizer = torch.optim.SGD(pruned_model.parameters(), lr=0.01, momentum=0.9, weight_decay=1e-4)\n",
    "scheduler = torch.optim.lr_scheduler.CosineAnnealingLR(optimizer, num_finetune_epochs)\n",
    "criterion = nn.CrossEntropyLoss()\n",
    "\n",
    "best_accuracy = 0\n",
    "for epoch in range(num_finetune_epochs):\n",
    "    train(pruned_model, dataloader['train'], criterion, optimizer, scheduler)\n",
    "    accuracy = evaluate(pruned_model, dataloader['test'])\n",
    "    is_best = accuracy > best_accuracy\n",
    "    if is_best:\n",
    "        best_accuracy = accuracy\n",
    "    print(f'Epoch {epoch+1} Accuracy {accuracy:.2f}% / Best Accuracy: {best_accuracy:.2f}%')"
   ]
  },
  {
   "cell_type": "markdown",
   "metadata": {},
   "source": [
    "#### 从修剪中测量加速度\n",
    "微调后，模型几乎恢复了精度。您可能已经了解到，与细粒度修剪相比，通道修剪通常更难恢复精度。然而，它直接导致模型大小更小，计算量更小，无需专门的模型格式。它还可以在GPU上运行得更快。现在我们比较修剪模型的模型大小、计算量和延迟。"
   ]
  },
  {
   "cell_type": "code",
   "execution_count": 49,
   "metadata": {},
   "outputs": [
    {
     "name": "stdout",
     "output_type": "stream",
     "text": [
      "                Original        Pruned          Reduction Ratio\n",
      "Latency (ms)    8.5             5.5             1.5            \n",
      "MACs (M)        606             305             2.0            \n",
      "Param (M)       9.23            5.01            1.8            \n"
     ]
    }
   ],
   "source": [
    "# helper functions to measure latency of a regular PyTorch models.\n",
    "#   Unlike fine-grained pruning, channel pruning\n",
    "#   can directly leads to model size reduction and speed up.\n",
    "@torch.no_grad()\n",
    "def measure_latency(model, dummy_input, n_warmup=20, n_test=100):\n",
    "    model.eval()\n",
    "    # warmup\n",
    "    for _ in range(n_warmup):\n",
    "        _ = model(dummy_input)\n",
    "    # real test\n",
    "    t1 = time.time()\n",
    "    for _ in range(n_test):\n",
    "        _ = model(dummy_input)\n",
    "    t2 = time.time()\n",
    "    return (t2 - t1) / n_test  # average latency\n",
    "\n",
    "table_template = \"{:<15} {:<15} {:<15} {:<15}\"\n",
    "print (table_template.format('', 'Original','Pruned','Reduction Ratio'))\n",
    "\n",
    "# 1. measure the latency of the original model and the pruned model on CPU\n",
    "#   which simulates inference on an edge device\n",
    "dummy_input = torch.randn(1, 3, 32, 32).to('cpu')\n",
    "pruned_model = pruned_model.to('cpu')\n",
    "model = model.to('cpu')\n",
    "\n",
    "pruned_latency = measure_latency(pruned_model, dummy_input)\n",
    "original_latency = measure_latency(model, dummy_input)\n",
    "print(table_template.format('Latency (ms)',\n",
    "                            round(original_latency * 1000, 1),\n",
    "                            round(pruned_latency * 1000, 1),\n",
    "                            round(original_latency / pruned_latency, 1)))\n",
    "\n",
    "# 2. measure the computation (MACs)\n",
    "original_macs = get_model_macs(model, dummy_input)\n",
    "pruned_macs = get_model_macs(pruned_model, dummy_input)\n",
    "print(table_template.format('MACs (M)',\n",
    "                            round(original_macs / 1e6),\n",
    "                            round(pruned_macs / 1e6),\n",
    "                            round(original_macs / pruned_macs, 1)))\n",
    "\n",
    "# 3. measure the model size (params)\n",
    "original_param = get_num_parameters(model)\n",
    "pruned_param = get_num_parameters(pruned_model)\n",
    "print(table_template.format('Param (M)',\n",
    "                            round(original_param / 1e6, 2),\n",
    "                            round(pruned_param / 1e6, 2),\n",
    "                            round(original_param / pruned_param, 1)))\n",
    "\n",
    "# put model back to cuda\n",
    "pruned_model = pruned_model.to('cuda')\n",
    "model = model.to('cuda')"
   ]
  },
  {
   "cell_type": "markdown",
   "metadata": {},
   "source": [
    "##### 问题8（10分）\n",
    "请使用前面代码单元中的信息回答以下问题。\n",
    "\n",
    "##### 问题8.1（5分）\n",
    "解释为什么删除30%的通道大致会导致50%的计算量减少。\n",
    "\n",
    "答：类似排列组合数据减少问题\n",
    "* 卷积层的计算复杂度与输入和输出通道的数量密切相关。在卷积操作中，输出通道的数量与每个输入通道的加权求和直接相关。当删除30%的通道时，剩余的输出通道仍然需要对输入进行计算，但由于通道的数量减少，每个输出通道的计算量相应减少。因此，计算量的减少效果会更为显著，导致整体计算量减少近50%。"
   ]
  },
  {
   "cell_type": "markdown",
   "metadata": {},
   "source": [
    "##### 问题8.2（5分）\n",
    "解释为什么延迟减少率略小于计算减少率。\n",
    "\n",
    "答：会有其他的操作影响延迟，如索引，指针，寻找非零权重等操作。\n",
    "* 延迟减少率略小于计算量减少率的原因主要与硬件架构和操作的特性有关。尽管计算量减少了，但模型推理过程中仍然会涉及到其他因素，如数据传输、内存访问和硬件的并行计算能力。这些因素可能会影响延迟的降低。例如，某些硬件在处理较少的操作时，可能由于缓存未命中或其他延迟的增加而无法完全利用计算量的减少。因此，虽然计算量减少明显，延迟的减少程度可能会受到其他限制，从而导致延迟减少率小于计算量减少率。"
   ]
  },
  {
   "cell_type": "markdown",
   "metadata": {},
   "source": [
    "### 比较细粒度修剪和通道修剪\n",
    "#### 问题9（10分）\n",
    "在本实验室的所有实验之后，您可能已经熟悉了细粒度修剪和通道修剪。\n",
    "\n",
    "请使用您从讲座和本实验室学到的知识回答以下问题。\n",
    "\n",
    "#### 问题9.1（5分）\n",
    "细粒度剪枝和通道剪枝的优缺点是什么，可以从压缩比、精度、延迟、硬件支持（即需要专门的硬件加速器）等角度来讨论。\n",
    "\n",
    "答：<br>\n",
    "**细粒度：**\n",
    "* 优点\n",
    "  * 更灵活，剪枝比例更高，能更好的保持精度\n",
    "    * 高压缩比：细粒度剪枝可以对单个权重进行裁剪，通过去除个别权重可以达到较高的压缩比，减少存储需求。\n",
    "    * 精度保持较好：因为只剪除不重要的权重，不改变网络结构，模型的性能损失较小，尤其在剪枝较少时。\n",
    "* 缺点\n",
    "  * 很难加速，GPU对不同的线程更愿意以同步的方式进行工作\n",
    "    * 延迟问题：细粒度剪枝会导致矩阵稀疏性增加，这种稀疏结构在常规硬件上难以高效执行，可能导致延迟增高。\n",
    "    * 硬件支持：细粒度剪枝生成的稀疏矩阵在通用硬件（如CPU、GPU）上不易加速，需要专门的稀疏矩阵乘法优化的硬件或加速器（如TPU）来支持，增加了对硬件的依赖。\n",
    "\n",
    "**通道剪枝:**\n",
    "* 优点\n",
    "  * 可以直接加速，减少了通道的数量\n",
    "  * 不需要任何专用的硬件\n",
    "    * 较低延迟：通道剪枝去掉整个卷积核通道或神经元，生成的模型仍为稠密结构，适合现有硬件（如CPU、GPU）高效运算，减少延迟。\n",
    "    * 更强的硬件兼容性：稠密的卷积操作能在大多数通用硬件上高效执行，因此无需专门的加速器支持。\n",
    "* 缺点\n",
    "  * 较小的压缩比，大约30%参数\n",
    "    * 压缩比相对较低：通道剪枝的粒度较粗，可能很难实现细粒度剪枝那样高的压缩比。\n",
    "    * 精度影响较大：因为通道剪枝直接去掉整个卷积核通道或网络中的神经元，可能导致模型性能显著下降，特别是在没有经过进一步优化的情况下。"
   ]
  },
  {
   "cell_type": "markdown",
   "metadata": {},
   "source": [
    "#### 问题9.2（5分）\n",
    "如果你想让你的模型在智能手机上运行得更快，你会使用哪种修剪方法？为什么呢？\n",
    "\n",
    "答：使用通道修剪\n",
    "* 显著的计算量减少： 通道修剪可以大幅减少计算量和模型大小，这对于资源有限的智能手机尤其重要。\n",
    "* 实现简单性： 相较于细粒度修剪，通道修剪的实现和维护更为简单，适合快速部署。\n",
    "* 兼容性： 通道修剪后的模型在许多现代硬件上能较好地运行，且可以利用GPU的并行计算能力。"
   ]
  }
 ],
 "metadata": {
  "kernelspec": {
   "display_name": "d2l-zh",
   "language": "python",
   "name": "python3"
  },
  "language_info": {
   "codemirror_mode": {
    "name": "ipython",
    "version": 3
   },
   "file_extension": ".py",
   "mimetype": "text/x-python",
   "name": "python",
   "nbconvert_exporter": "python",
   "pygments_lexer": "ipython3",
   "version": "3.8.20"
  }
 },
 "nbformat": 4,
 "nbformat_minor": 2
}
